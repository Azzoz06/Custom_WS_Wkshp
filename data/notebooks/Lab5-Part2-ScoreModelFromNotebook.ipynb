{
 "cells": [
  {
   "cell_type": "markdown",
   "metadata": {},
   "source": [
    "# Lab5 - Part 2: Using a deployed Watson Machine Learning model from a python notebook\n",
    "\n",
    "This is a 'stretch' lab to complement the Watson ML model training and deployment, we show how to invoke the deployed Watson ML scoring from a Jupyter Notebook\n",
    "\n",
    "### Gathering information from the WML environment and deployed model\n",
    "You will have to get out of this notebook, possibly in a separate tab, to gather the following information, \n",
    "if you have not gathered them previously in a text file.\n",
    "\n",
    "#### Watson Machine Learning Credentials:\n",
    "* You will need to retrieve your ML service credentials:\n",
    "  * These are available form the Watson Data Platform `Services/Compute Services` menu\n",
    "  * Selecting `Manage in IBM  Cloud` will take you to the service page where you can copy the credentials from\n",
    "* Paste the credentials in the code cell below and execute it"
   ]
  },
  {
   "cell_type": "code",
   "execution_count": null,
   "metadata": {},
   "outputs": [],
   "source": [
    "wml_credentials={\n",
    "  \"apikey\": \"pjo6PTmhe30AuThjks6mG9Q9dz191fu8BTloZ55xfR49\",\n",
    "  \"iam_apikey_description\": \"Auto generated apikey during resource-key operation for Instance - crn:v1:bluemix:public:pm-20:eu-de:a/05a42cfb619f488a83b185b7ca2690ce:7b36fa9e-226a-4ae5-885f-994cc449acb9::\",\n",
    "  \"iam_apikey_name\": \"auto-generated-apikey-db34e0d1-b04c-4c38-baa9-bc558072e7cc\",\n",
    "  \"iam_role_crn\": \"crn:v1:bluemix:public:iam::::serviceRole:Writer\",\n",
    "  \"iam_serviceid_crn\": \"crn:v1:bluemix:public:iam-identity::a/05a42cfb619f488a83b185b7ca2690ce::serviceid:ServiceId-63df0ae7-8416-4ca9-a185-c2e1e2c8cf5d\",\n",
    "  \"instance_id\": \"7b36fa9e-226a-4ae5-885f-994cc449acb9\",\n",
    "  \"password\": \"c9f2c1ea-c9db-41f7-bd4c-7913feb804b2\",\n",
    "  \"url\": \"https://eu-de.ml.cloud.ibm.com\",\n",
    "  \"username\": \"db34e0d1-b04c-4c38-baa9-bc558072e7cc\"\n",
    "        ,'NOTTHISONE': True\n",
    "}"
   ]
  },
  {
   "cell_type": "code",
   "execution_count": null,
   "metadata": {},
   "outputs": [],
   "source": [
    "# Verify that credentials got modified properly\n",
    "if 'NOTTHISONE' in wml_credentials.keys():\n",
    "    raise Exception(\"REPLACE YOUR OWN WML CREDENTIALS in the previous code cell above!\")"
   ]
  },
  {
   "cell_type": "markdown",
   "metadata": {},
   "source": [
    "#### Watson Machine Learning REST API setup\n",
    "The code in the cell below sets up the WML API and a set of independent (input) variables that we will score against"
   ]
  },
  {
   "cell_type": "code",
   "execution_count": null,
   "metadata": {},
   "outputs": [],
   "source": [
    "# WML API endpoint setup\n",
    "import urllib3, requests, json\n",
    "\n",
    "headers = urllib3.util.make_headers(basic_auth='{username}:{password}'.format(username=wml_credentials['username'], password=wml_credentials['password']))\n",
    "url = '{}/v3/identity/token'.format(wml_credentials['url'])\n",
    "response = requests.get(url, headers=headers)\n",
    "mltoken = json.loads(response.text).get('token')\n",
    "\n",
    "header = {'Content-Type': 'application/json', 'Authorization': 'Bearer ' + mltoken}\n",
    "\n",
    "# Sample scoring payload\n",
    "# NOTE: manually define and pass the array(s) of values to be scored in the next line\n",
    "payload_scoring = {\"fields\": [\"ID\",\"Actual\",\"Gender\", \"Status\", \"Children\", \"Est Income\", \"Car Owner\", \"Age\", \"LongDistance\", \"International\", \"Local\", \"Dropped\", \"Paymethod\", \"LocalBilltype\", \"LongDistanceBilltype\", \"Usage\", \"RatePlan\"]}\n",
    "payload_scoring[\"values\"]=[\n",
    "    [8,\"F\",\"M\",\"M\",0.000000,19732.800000,\"N\",50.673333,24.810000,0.000000,22.440000,0.000000,\"CC\",\"FreeLocal\",\"Standard\",47.250000,3.000000]\n",
    "    ,[54,\"T\",\"F\",\"M\",2.000000,84166.100000,\"N\",54.013333,3.280000,0.000000,11.740000,1.000000,\"CC\",\"Budget\",\"Standard\",15.020000,2.000000]\n",
    "    ,[236,\"T\",\"F\",\"S\",2.000000,23464.000000,\"Y\",70.000000,22.430000,0.000000,41.710000,0.000000,\"CC\",\"Budget\",\"Intnl_discount\",64.140000,3.000000]\n",
    "    ,[1018,\"F\",\"F\",\"S\",0.000000,95786.800000,\"Y\",52.646667,21.330000,0.000000,87.460000,0.000000,\"CC\",\"Budget\",\"Standard\",108.790000,1.000000]\n",
    "    ,[1020,\"T\",\"M\",\"S\",0.000000,90321.600000,\"N\",55.113333,0.870000,0.000000,11.520000,0.000000,\"CC\",\"FreeLocal\",\"Intnl_discount\",12.390000,3.000000]\n",
    "    ,[1021,\"T\",\"M\",\"D\",1.000000,90478.600000,\"N\",54.553333,18.020000,0.000000,136.470000,0.000000,\"CC\",\"FreeLocal\",\"Standard\",154.490000,4.000000]\n",
    "    ,[1022,\"F\",\"F\",\"M\",2.000000,56187.000000,\"N\",43.000000,8.090000,0.000000,13.740000,0.000000,\"CH\",\"Budget\",\"Standard\",21.830000,3.000000]\n",
    "    ,[1023,\"F\",\"M\",\"M\",1.000000,28313.100000,\"N\",20.893333,6.890000,0.000000,6.740000,0.000000,\"CC\",\"Budget\",\"Standard\",13.630000,2.000000]\n",
    "    ,[1025,\"T\",\"F\",\"S\",1.000000,41000.000000,\"N\",24.393333,23.560000,0.000000,206.080000,0.000000,\"CC\",\"Budget\",\"Intnl_discount\",229.640000,2.000000]\n",
    "    ,[1030,\"F\",\"M\",\"M\",2.000000,29616.000000,\"N\",49.426667,29.780000,0.000000,45.500000,0.000000,\"CH\",\"FreeLocal\",\"Standard\",75.290000,4.000000]\n",
    "    ,[1032,\"F\",\"M\",\"M\",0.000000,19732.800000,\"N\",50.673333,24.810000,0.000000,22.440000,0.000000,\"CC\",\"FreeLocal\",\"Standard\",47.250000,1.000000]\n",
    "    ,[1035,\"F\",\"M\",\"S\",2.000000,96.330000,\"N\",56.473333,26.130000,0.000000,32.880000,1.000000,\"CC\",\"Budget\",\"Standard\",59.010000,3.000000]\n",
    "    ,[1038,\"F\",\"F\",\"M\",2.000000,52004.800000,\"N\",25.140000,5.030000,0.000000,23.110000,0.000000,\"CH\",\"Budget\",\"Intnl_discount\",28.140000,2.000000]\n",
    "    ,[1041,\"F\",\"M\",\"M\",2.000000,53010.800000,\"N\",18.840000,12.450000,0.000000,46.420000,4.000000,\"CC\",\"FreeLocal\",\"Standard\",58.870000,4.000000]\n",
    "    ,[1042,\"F\",\"M\",\"M\",0.000000,75004.500000,\"N\",64.800000,26.520000,0.000000,32.190000,0.000000,\"CC\",\"Budget\",\"Intnl_discount\",58.720000,1.000000]\n",
    "    ,[1045,\"F\",\"M\",\"M\",0.000000,19749.300000,\"N\",60.366667,20.220000,0.000000,13.940000,0.000000,\"CC\",\"Budget\",\"Standard\",34.170000,2.000000]\n",
    "    ,[1046,\"F\",\"M\",\"S\",1.000000,57626.900000,\"Y\",43.906667,9.380000,0.000000,38.960000,0.000000,\"CC\",\"Budget\",\"Standard\",48.350000,1.000000]\n",
    "    ,[1047,\"F\",\"M\",\"M\",2.000000,20078.000000,\"N\",32.846667,9.650000,0.000000,6.330000,0.000000,\"CC\",\"Budget\",\"Intnl_discount\",15.980000,1.000000]\n",
    "    ,[1048,\"F\",\"F\",\"M\",2.000000,47902.000000,\"N\",26.033333,17.440000,4.940000,49.920000,1.000000,\"Auto\",\"FreeLocal\",\"Standard\",72.310000,3.000000]\n",
    "    ,[1053,\"T\",\"M\",\"M\",1.000000,7545.960000,\"Y\",16.753333,22.390000,0.000000,178.360000,0.000000,\"CC\",\"Budget\",\"Standard\",200.750000,2.000000]\n",
    "]"
   ]
  },
  {
   "cell_type": "markdown",
   "metadata": {},
   "source": [
    "#### Watson Machine Learning deployed model REST API scoring endpoint invocation:\n",
    "The code below will invoke the deployed WML scoring endpoint for your own deployed model, so you need to locate an setup the proper endpoint URL:\n",
    "* Navigate back to you Project's Assets, down to `Models` section\n",
    "* Open the deployed model, navigate to the `Implementation` tab, then the `Python` tab\n",
    "* Within the Python sample code for your Deployed ML instance, locate the line that starts with   \n",
    "   `response_scoring = requests.post(.....`\n",
    "  and paste it over the same line in the code cell below to replace it:\n",
    "* Execute the code cell, this will run the scoring against the two candidates specified in `payload_scoring`"
   ]
  },
  {
   "cell_type": "code",
   "execution_count": null,
   "metadata": {},
   "outputs": [],
   "source": [
    "# *** Replace the line below by the one with your own scoring endpoint values ****\n",
    "#response_scoring = requests.post(...\n",
    "response_scoring = requests.post('https://eu-de.ml.cloud.ibm.com/v3/wml_instances/7b36fa9e-226a-4ae5-885f-994cc449acb9/deployments/69dba6b3-5646-47e8-826b-7785a86c4a26/online', json=payload_scoring, headers=header)\n",
    "\n",
    "print(\"Scoring response returned {0} rows\".format(len(json.loads(response_scoring.text)[\"values\"])))"
   ]
  },
  {
   "cell_type": "markdown",
   "metadata": {},
   "source": [
    "### Display scoring results\n",
    "As a final example, we will load the result scoring into a panda dataframe and display it with Brunel"
   ]
  },
  {
   "cell_type": "code",
   "execution_count": null,
   "metadata": {},
   "outputs": [],
   "source": [
    "# Create a panda DataFrame with the values and fields\n",
    "import pandas as pd\n",
    "jscore=json.loads(response_scoring.text)\n",
    "dfsc=pd.DataFrame(data=jscore['values'],columns=jscore['fields'])\n",
    "dfsc"
   ]
  },
  {
   "cell_type": "markdown",
   "metadata": {},
   "source": [
    "## Print out a confusion matrix using Brunel\n",
    "We use the following brunel diagram to show true negative (F,F), true positive (T,T) and false positive (F,T) and false negative (T,F) in amatrix layout, also called a confusion matrix"
   ]
  },
  {
   "cell_type": "code",
   "execution_count": null,
   "metadata": {},
   "outputs": [],
   "source": [
    "import brunel\n",
    "%brunel data('dfsc') x(Actual) y(nodeADP_class) color(#count) label(#count)"
   ]
  },
  {
   "cell_type": "markdown",
   "metadata": {},
   "source": [
    "Feel free to experiment with other visualizations or input data"
   ]
  }
 ],
 "metadata": {
  "kernelspec": {
   "display_name": "Python 3.5",
   "language": "python",
   "name": "python3"
  },
  "language_info": {
   "codemirror_mode": {
    "name": "ipython",
    "version": 3
   },
   "file_extension": ".py",
   "mimetype": "text/x-python",
   "name": "python",
   "nbconvert_exporter": "python",
   "pygments_lexer": "ipython3",
   "version": "3.5.5"
  }
 },
 "nbformat": 4,
 "nbformat_minor": 1
}
